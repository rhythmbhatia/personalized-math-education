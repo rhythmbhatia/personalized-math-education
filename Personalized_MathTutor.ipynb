{
  "nbformat": 4,
  "nbformat_minor": 0,
  "metadata": {
    "colab": {
      "provenance": []
    },
    "kernelspec": {
      "name": "python3",
      "display_name": "Python 3"
    },
    "language_info": {
      "name": "python"
    }
  },
  "cells": [
    {
      "cell_type": "code",
      "execution_count": 1,
      "metadata": {
        "id": "sEwWWDKG85Ha"
      },
      "outputs": [],
      "source": [
        "# Run the necessary installations first\n",
        "!pip install scikit-learn numpy pandas matplotlib --quiet"
      ]
    },
    {
      "cell_type": "code",
      "source": [
        "# Importing necessary libraries\n",
        "import numpy as np\n",
        "import pandas as pd\n",
        "import matplotlib.pyplot as plt\n",
        "from sklearn.cluster import KMeans\n",
        "from sklearn.preprocessing import StandardScaler"
      ],
      "metadata": {
        "id": "g_maQ3ZX88GB"
      },
      "execution_count": 2,
      "outputs": []
    },
    {
      "cell_type": "code",
      "source": [
        "# Dataset of sample math problems (e.g., arithmetic, algebra, geometry)\n",
        "data = {\n",
        "    'problem': ['2 + 3', '5 * 6', '7 - 2', '12 / 4', 'x^2 + 2x + 1', 'y = mx + b', 'area of circle', 'Pythagorean theorem'],\n",
        "    'difficulty': [1, 2, 1, 1, 3, 2, 3, 3],  # 1: Easy, 2: Medium, 3: Hard\n",
        "    'topic': ['addition', 'multiplication', 'subtraction', 'division', 'algebra', 'algebra', 'geometry', 'geometry'],\n",
        "}\n"
      ],
      "metadata": {
        "id": "kZoQ51f68-F0"
      },
      "execution_count": 3,
      "outputs": []
    },
    {
      "cell_type": "code",
      "source": [
        "# Convert data into DataFrame\n",
        "df = pd.DataFrame(data)"
      ],
      "metadata": {
        "id": "fofflhT39AkC"
      },
      "execution_count": 4,
      "outputs": []
    },
    {
      "cell_type": "code",
      "source": [
        "# Scaling difficulty for clustering\n",
        "scaler = StandardScaler()\n",
        "df['scaled_difficulty'] = scaler.fit_transform(df[['difficulty']])"
      ],
      "metadata": {
        "id": "YRzJxlb79C4f"
      },
      "execution_count": 5,
      "outputs": []
    },
    {
      "cell_type": "code",
      "source": [
        "# KMeans clustering to recommend problems based on difficulty\n",
        "kmeans = KMeans(n_clusters=3)\n",
        "df['cluster'] = kmeans.fit_predict(df[['scaled_difficulty']])"
      ],
      "metadata": {
        "id": "C5ZY6u9E9FbZ"
      },
      "execution_count": 6,
      "outputs": []
    },
    {
      "cell_type": "code",
      "source": [
        "# Show the DataFrame with clusters\n",
        "print(df)"
      ],
      "metadata": {
        "colab": {
          "base_uri": "https://localhost:8080/"
        },
        "id": "IN0-wIm49HiI",
        "outputId": "c60be390-d03a-419e-beff-633ad5389fc3"
      },
      "execution_count": 7,
      "outputs": [
        {
          "output_type": "stream",
          "name": "stdout",
          "text": [
            "               problem  difficulty           topic  scaled_difficulty  cluster\n",
            "0                2 + 3           1        addition          -1.154701        1\n",
            "1                5 * 6           2  multiplication           0.000000        2\n",
            "2                7 - 2           1     subtraction          -1.154701        1\n",
            "3               12 / 4           1        division          -1.154701        1\n",
            "4         x^2 + 2x + 1           3         algebra           1.154701        0\n",
            "5           y = mx + b           2         algebra           0.000000        2\n",
            "6       area of circle           3        geometry           1.154701        0\n",
            "7  Pythagorean theorem           3        geometry           1.154701        0\n"
          ]
        }
      ]
    },
    {
      "cell_type": "code",
      "source": [
        "# Function to recommend problems based on user's current level\n",
        "def recommend_problem(level):\n",
        "    \"\"\"Recommend a problem based on the user's current level (1: Easy, 2: Medium, 3: Hard)\"\"\"\n",
        "    recommended = df[df['difficulty'] == level]\n",
        "    print(f\"Recommended problems for level {level}:\\n\")\n",
        "    for _, row in recommended.iterrows():\n",
        "        print(f\"- {row['problem']} ({row['topic']})\")"
      ],
      "metadata": {
        "id": "BWRufWlN9Js1"
      },
      "execution_count": 8,
      "outputs": []
    },
    {
      "cell_type": "code",
      "source": [
        "# User input: selecting the difficulty level\n",
        "user_level = int(input(\"Enter your difficulty level (1: Easy, 2: Medium, 3: Hard): \"))\n",
        "recommend_problem(user_level)"
      ],
      "metadata": {
        "colab": {
          "base_uri": "https://localhost:8080/"
        },
        "id": "uGhSF2Za9OmQ",
        "outputId": "ce5d2d95-49b3-4726-d48b-f3b4b59d309b"
      },
      "execution_count": 9,
      "outputs": [
        {
          "output_type": "stream",
          "name": "stdout",
          "text": [
            "Enter your difficulty level (1: Easy, 2: Medium, 3: Hard): 3\n",
            "Recommended problems for level 3:\n",
            "\n",
            "- x^2 + 2x + 1 (algebra)\n",
            "- area of circle (geometry)\n",
            "- Pythagorean theorem (geometry)\n"
          ]
        }
      ]
    }
  ]
}